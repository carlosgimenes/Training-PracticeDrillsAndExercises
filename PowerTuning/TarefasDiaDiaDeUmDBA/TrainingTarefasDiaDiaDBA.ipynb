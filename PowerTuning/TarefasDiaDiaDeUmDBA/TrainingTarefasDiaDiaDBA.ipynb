{
    "metadata": {
        "kernelspec": {
            "name": "SQL",
            "display_name": "SQL",
            "language": "sql"
        },
        "language_info": {
            "name": "sql",
            "version": ""
        }
    },
    "nbformat_minor": 2,
    "nbformat": 4,
    "cells": [
        {
            "cell_type": "markdown",
            "source": [
                "# **Treinamento Tarefas do Dia a Dia de um DBA**\n",
                "\n",
                "- Carlos Eduardo Gimenes\n",
                "- Last Modified: January, 2024\n",
                "\n",
                "> **Copyright (C) 2023 Carlos Eduardo Gimenes**  \n",
                "> All rights reserved.  \n",
                "> You may alter this code for your own _non-commercial_ purposes.  \n",
                "> You may republish altered code as long as you include this copyright and give due credit.\n",
                "> \n",
                "> THIS CODE AND INFORMATION ARE PROVIDED \"AS IS\" WITHOUT WARRANTY OF ANY KIND, EITHER EXPRESSED OR IMPLIED, INCLUDING BUT NOT LIMITED TO THE IMPLIED WARRANTIES OF MERCHANTABILITY AND/OR FITNESS FOR A PARTICULAR PURPOSE."
            ],
            "metadata": {
                "azdata_cell_guid": "abfb7e17-ef06-4158-b889-a38bb8feddbd"
            },
            "attachments": {}
        },
        {
            "cell_type": "markdown",
            "source": [
                "# **Check SQL Server version**"
            ],
            "metadata": {
                "azdata_cell_guid": "705ec442-bc89-481d-956a-21add740bedc"
            },
            "attachments": {}
        },
        {
            "cell_type": "markdown",
            "source": [
                "- **Approach 1:**"
            ],
            "metadata": {
                "azdata_cell_guid": "c4107025-a7ff-4dda-b887-7172af6d78f5"
            },
            "attachments": {}
        },
        {
            "cell_type": "code",
            "source": [
                "SELECT\r\n",
                "    SERVERPROPERTY('productversion') AS ProductVersion,\r\n",
                "    SERVERPROPERTY('productlevel') AS ProductLevel,\r\n",
                "    SERVERPROPERTY('edition') AS Edition"
            ],
            "metadata": {
                "azdata_cell_guid": "c2003540-72b4-4b8d-a54f-ce8a87060f3a",
                "language": "sql"
            },
            "outputs": [],
            "execution_count": null
        },
        {
            "cell_type": "markdown",
            "source": [
                "- **Approach 2:**"
            ],
            "metadata": {
                "language": "sql",
                "azdata_cell_guid": "d79c3073-eccb-4462-891d-44daa09e6945"
            },
            "attachments": {}
        },
        {
            "cell_type": "code",
            "source": [
                "SELECT\r\n",
                "    @@VERSION AS Version"
            ],
            "metadata": {
                "language": "sql",
                "azdata_cell_guid": "4a5b7332-bbe9-491f-ba9a-3fee9ce74929"
            },
            "outputs": [],
            "execution_count": null
        },
        {
            "cell_type": "markdown",
            "source": [
                "# **Check The current version of the installed Service Pack**"
            ],
            "metadata": {
                "language": "sql",
                "azdata_cell_guid": "ddc0945f-f516-4245-a788-a993d863b7aa"
            },
            "attachments": {}
        },
        {
            "cell_type": "code",
            "source": [
                "SELECT\r\n",
                "    @@VERSION"
            ],
            "metadata": {
                "language": "sql",
                "azdata_cell_guid": "4f822d75-c27a-4335-94c2-9e067131b56f"
            },
            "outputs": [],
            "execution_count": null
        },
        {
            "cell_type": "markdown",
            "source": [
                "![SQLServer-VersionServicePack.PNG](attachment:SQLServer-VersionServicePack.PNG)"
            ],
            "metadata": {
                "language": "sql",
                "azdata_cell_guid": "d37b0c0e-20be-4d16-b10d-df4945e423fb"
            },
            "attachments": {
                "SQLServer-VersionServicePack.PNG": {
                    "image/png": "[encoded data removed]"
                }
            }
        },
        {
            "cell_type": "markdown",
            "source": [
                "# **Check and adjust Error Log configuration**"
            ],
            "metadata": {
                "language": "sql",
                "azdata_cell_guid": "70e8d1bd-f3cb-4d19-a73e-a81ef90b8b9c"
            },
            "attachments": {}
        },
        {
            "cell_type": "markdown",
            "source": [
                "- **SQL Server running in Linux**\n",
                "    - Via Managment Studio, clique com o botão direito na Instancia, em seguida em Facets, em Facet procure por Server Settings e em Facet properties, procure por NumberOfLogFiles e defina o número de arquivos que deseja manter"
            ],
            "metadata": {
                "language": "sql",
                "azdata_cell_guid": "64f5c704-8945-4f4a-8957-8580f501d5b8"
            },
            "attachments": {}
        },
        {
            "cell_type": "markdown",
            "source": [
                "![SQLServer-SettingNumberFileErrorLog.PNG](data:image/png;base64,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)"
            ],
            "metadata": {
                "language": "sql",
                "azdata_cell_guid": "4f4796b6-afd9-4826-b662-2ea6530d4fdc"
            },
            "attachments": {}
        },
        {
            "cell_type": "markdown",
            "source": [
                "- **SQL Server running in Windows**\n",
                "    - Via Managment Studio, vá em Managment e clique com o botão direito em SQL Server Logs, em seguida em Configure e marque a opção Limit the number of error log files before they are recycled e em Maximum number of error log files, defina o número de arquivos que deseja manter\n",
                "    - Via T-SQL ajuste e execute o script abaixo"
            ],
            "metadata": {
                "language": "sql",
                "azdata_cell_guid": "d6af2049-da86-4001-aa93-4271b1b04ca2"
            },
            "attachments": {}
        },
        {
            "cell_type": "code",
            "source": [
                "USE master\r\n",
                "GO\r\n",
                "\r\n",
                "EXEC xp_instance_regwrite N'HKEY_LOCAL_MACHINE', N'Sotware\\Microsoft\\MSSQLServer\\MSSQLServer', N'NumErrorLogs', REG_DWORD, InformarNumeroDesejado"
            ],
            "metadata": {
                "language": "sql",
                "azdata_cell_guid": "0528e0d2-b280-48c2-9831-fc8fd2e708a8"
            },
            "outputs": [],
            "execution_count": null
        },
        {
            "cell_type": "markdown",
            "source": [
                "# **Collation Tests**"
            ],
            "metadata": {
                "language": "sql",
                "azdata_cell_guid": "e5296521-dab6-49f4-9387-9b56ccd66f17"
            },
            "attachments": {}
        },
        {
            "cell_type": "markdown",
            "source": [
                "### \n",
                "\n",
                "- **Check Instance Collation information**"
            ],
            "metadata": {
                "language": "sql",
                "azdata_cell_guid": "1a5fb8a0-e7c3-442d-a946-e25142f3b43e"
            },
            "attachments": {}
        },
        {
            "cell_type": "code",
            "source": [
                "-- Retorna Collation da Instancia\r\n",
                "SELECT\r\n",
                "    SERVERPROPERTY(N'Collation') SQLInstanceCollation"
            ],
            "metadata": {
                "language": "sql",
                "azdata_cell_guid": "c3adc98f-df7e-4bcf-9523-1a7bd21654e0"
            },
            "outputs": [],
            "execution_count": null
        },
        {
            "cell_type": "markdown",
            "source": [
                "### \n",
                "\n",
                "- **Check Database Collation information**"
            ],
            "metadata": {
                "language": "sql",
                "azdata_cell_guid": "d5daa7cd-db3c-40a5-b2f8-47ed26b305c7"
            },
            "attachments": {}
        },
        {
            "cell_type": "code",
            "source": [
                "-- Retorna Collation do Database\r\n",
                "SELECT\r\n",
                "    DATABASEPROPERTYEX('SampleDB', 'Collation') SQLDatabaseCollation        -- Ajuste o nome do Database, neste exemplo checamos para o Database SampleDB"
            ],
            "metadata": {
                "language": "sql",
                "azdata_cell_guid": "aa12e08e-88fb-45bd-8944-4e9153aaa437"
            },
            "outputs": [],
            "execution_count": null
        },
        {
            "cell_type": "markdown",
            "source": [
                "### \n",
                "\n",
                "- **Creating a Database called \"TesteCollation\" with a Collation different from the Server: \"Latin1\\_General\\_CI\\_AI\"**"
            ],
            "metadata": {
                "language": "sql",
                "azdata_cell_guid": "c0bff134-39be-4aba-bec4-7841bb70c8b4"
            },
            "attachments": {}
        },
        {
            "cell_type": "code",
            "source": [
                "-- Create Database named TesteCollation\r\n",
                "\r\n",
                "IF EXISTS(SELECT name FROM sys.databases WHERE name = 'TesteCollation')\r\n",
                "    DROP DATABASE TesteCollation\r\n",
                "\r\n",
                "CREATE DATABASE [TesteCollation]\r\n",
                "    ON PRIMARY\r\n",
                "    ( NAME = N'TesteCollation',\r\n",
                "    FILENAME = N'/arquivos3/mssql/data/TesteCollation.mdf',\r\n",
                "    SIZE = 5120KB, FILEGROWTH = 1024KB )\r\n",
                "    LOG ON\r\n",
                "    ( NAME = N'TesteCollation_log',\r\n",
                "    FILENAME = N'/arquivos3/mssql/log/TesteCollation_log.ldf',\r\n",
                "    SIZE = 1024KB, FILEGROWTH = 10%)\r\n",
                "    COLLATE Latin1_General_CI_AS"
            ],
            "metadata": {
                "language": "sql",
                "azdata_cell_guid": "68949f34-ab6a-4420-944f-ecdd01fee4d1"
            },
            "outputs": [],
            "execution_count": null
        },
        {
            "cell_type": "markdown",
            "source": [
                "### \n",
                "\n",
                "- **Checking that the Collation of the Database and the Server are different**"
            ],
            "metadata": {
                "language": "sql",
                "azdata_cell_guid": "37cddb0a-2fd8-49ae-be3f-90b96866968e"
            },
            "attachments": {}
        },
        {
            "cell_type": "code",
            "source": [
                "-- Collation do Database criado\r\n",
                "SELECT\r\n",
                "    DATABASEPROPERTYEX('TesteCollation', 'Collation') SQLDatabaseCollation\r\n",
                "\r\n",
                "-- Collation do Servidor\r\n",
                "SELECT\r\n",
                "    SERVERPROPERTY(N'Collation') SQLServerCollation"
            ],
            "metadata": {
                "language": "sql",
                "azdata_cell_guid": "c48b0e9d-e13d-45d8-9cc5-23d213223b17"
            },
            "outputs": [],
            "execution_count": null
        },
        {
            "cell_type": "markdown",
            "source": [
                "### \n",
                "\n",
                "- **Check ALL Database Collation information**"
            ],
            "metadata": {
                "language": "sql",
                "azdata_cell_guid": "a92edb66-8421-413e-b8d0-6c379b67db0c"
            },
            "attachments": {}
        },
        {
            "cell_type": "code",
            "source": [
                "-- Collation de TODOS Databases\r\n",
                "SELECT\r\n",
                "    name,\r\n",
                "    collation_name\r\n",
                "FROM\r\n",
                "    sys.databases\r\n",
                "ORDER BY\r\n",
                "    name"
            ],
            "metadata": {
                "language": "sql",
                "azdata_cell_guid": "38b25987-15a9-4393-84ed-65c981233ab2"
            },
            "outputs": [],
            "execution_count": null
        },
        {
            "cell_type": "markdown",
            "source": [
                "### \n",
                "\n",
                "- **Criando uma tabela no Database TesteCollation e uma tabela Temporária para simular o problema gerado com Collations diferentes**"
            ],
            "metadata": {
                "language": "sql",
                "azdata_cell_guid": "9c3dc170-c7e9-4705-8b5a-56048df3fa19"
            },
            "attachments": {}
        },
        {
            "cell_type": "code",
            "source": [
                "/*\r\n",
                "USE TesteCollation\r\n",
                "DROP TABLE Cliente\r\n",
                "GO\r\n",
                "\r\n",
                "USE tempdb\r\n",
                "DROP TABLE #Cliente2\r\n",
                "GO\r\n",
                "*/\r\n",
                "\r\n",
                "USE TesteCollation\r\n",
                "GO\r\n",
                "CREATE TABLE Cliente(Cod int identity, Nome VARCHAR(50))\r\n",
                "\r\n",
                "INSERT INTO Cliente\r\n",
                "SELECT 'Carlos Eduardo Gimenes'\r\n",
                "\r\n",
                "CREATE TABLE #Cliente2(Cod int identity, Nome VARCHAR(50))\r\n",
                "\r\n",
                "INSERT INTO #Cliente2\r\n",
                "SELECT 'Carlos Eduardo Gimenes'\r\n",
                ""
            ],
            "metadata": {
                "language": "sql",
                "azdata_cell_guid": "00bceafd-c5e8-4fd5-bfc9-69a73c17d382"
            },
            "outputs": [],
            "execution_count": null
        },
        {
            "cell_type": "markdown",
            "source": [
                "### \n",
                "\n",
                "- **Realizando um Join entre uma tabela Temporária e uma tabela da base de dados TesteCollation**"
            ],
            "metadata": {
                "language": "sql",
                "azdata_cell_guid": "1085f27d-9c07-4031-8442-ad7cb9e01da0"
            },
            "attachments": {}
        },
        {
            "cell_type": "code",
            "source": [
                "SELECT *\r\n",
                "FROM #Cliente2 A\r\n",
                "JOIN Cliente B ON A.Nome = B.Nome\r\n",
                "\r\n",
                "-- Recebemos o seguinte erro:\r\n",
                "/*\r\n",
                "Msg 468, Level 16, State 9, Line 3\r\n",
                "Cannot resolve the collation conflict between \"Latin1_General_CI_AS\" and \"Latin1_General_CI_AI\" in the equal to operation.\r\n",
                "Total execution time: 00:00:00.003\r\n",
                "*/"
            ],
            "metadata": {
                "language": "sql",
                "azdata_cell_guid": "f16de9fe-92a8-40e0-ac7b-7bee39396273"
            },
            "outputs": [],
            "execution_count": null
        },
        {
            "cell_type": "markdown",
            "source": [
                "### \n",
                "\n",
                "- **Como resolver o erro reportado na consulta anterior**"
            ],
            "metadata": {
                "language": "sql",
                "azdata_cell_guid": "fc9f9b53-d677-4e6f-9f8f-ca33dc68a44b"
            },
            "attachments": {}
        },
        {
            "cell_type": "code",
            "source": [
                "SELECT *\r\n",
                "FROM #Cliente2 A\r\n",
                "JOIN Cliente B ON A.nome COLLATE Latin1_General_CI_AI = B.nome\r\n",
                "\r\n",
                "/*\r\n",
                "Colocando o camando \"COLLATE Latin1_General_CI_AI\" convertemos o resultado da coluna A.nome para a Collation \"Latin1_General_CI_AI\"\r\n",
                "que é igual aquela utilizada na coluna da base\r\n",
                "*/"
            ],
            "metadata": {
                "language": "sql",
                "azdata_cell_guid": "82897c59-e0a3-42e7-8354-7262031e8eb2",
                "tags": []
            },
            "outputs": [],
            "execution_count": null
        },
        {
            "cell_type": "markdown",
            "source": [
                "### \n",
                "\n",
                "- **Excluindo Database utilizado na Demo**"
            ],
            "metadata": {
                "language": "sql",
                "azdata_cell_guid": "a083eadd-9d7b-4d68-96fc-9cd168561f30"
            },
            "attachments": {}
        },
        {
            "cell_type": "code",
            "source": [
                "USE master\r\n",
                "DROP DATABASE TesteCollation\r\n",
                "GO\r\n",
                "\r\n",
                "USE tempdb\r\n",
                "DROP TABLE #Cliente2\r\n",
                "GO"
            ],
            "metadata": {
                "language": "sql",
                "azdata_cell_guid": "e914dc91-539d-40f2-bffb-26a6153f3f25",
                "tags": []
            },
            "outputs": [],
            "execution_count": null
        },
        {
            "cell_type": "markdown",
            "source": [
                "### \n",
                "\n",
                "- **Curiosidade: conversão para retirar todos os acentos de uma String**"
            ],
            "metadata": {
                "language": "sql",
                "azdata_cell_guid": "7f34a045-5506-4189-9d7b-d15b93a4ccff"
            },
            "attachments": {}
        },
        {
            "cell_type": "code",
            "source": [
                "Declare @cExpressao varchar(30)\r\n",
                "\r\n",
                "Set @cExpressao = 'aeiouáéíóúàèìòòâêîôûãõäëïöüç'\r\n",
                "\r\n",
                "Select\r\n",
                "    @cExpressao ANTES,\r\n",
                "    @cExpressao collate sql_latin1_general_cp1251_ci_as DEPOIS"
            ],
            "metadata": {
                "language": "sql",
                "azdata_cell_guid": "3191822e-4783-47df-af26-89f1a26178f2"
            },
            "outputs": [],
            "execution_count": null
        },
        {
            "cell_type": "markdown",
            "source": [
                "- **Collation pode impactar na PERFORMANCE?**\n",
                "    - [Veja maiores explicações neste vídeo](https:\\www.fabriciolima.net\\blog\\2017\\02\\06\\video-melhorando-a-performance-de-uma-consulta-com-like-string-alterando-a-collation\\)"
            ],
            "metadata": {
                "language": "sql",
                "azdata_cell_guid": "2e39385d-0ebd-4ce9-b863-8a57e4ac9e2d"
            },
            "attachments": {}
        },
        {
            "cell_type": "code",
            "source": [
                "-- Criar Tabela\r\n",
                "/*\r\n",
                "DROP TABLE IF EXISTS dbo.Teste_Collation_SQL\r\n",
                "\r\n",
                "CREATE TABLE dbo.Teste_Collation_SQL (\r\n",
                "    cod int IDENTITY(1,1) PRIMARY KEY,\r\n",
                "    Dt_Log DATETIME,\r\n",
                "    Descricao VARCHAR(50)\r\n",
                ")\r\n",
                "*/\r\n",
                "\r\n",
                "-- Popular Tabela (Processo pode demorar alguns minutos)\r\n",
                "-- Insert rows into table 'TableName' in schema '[dbo]'\r\n",
                "/*\r\n",
                "INSERT INTO [dbo].[Teste_Collation_SQL]\r\n",
                "SELECT GETDATE(), REPLICATE('A', 50)\r\n",
                "GO 10\r\n",
                "*/\r\n",
                "\r\n",
                "/*\r\n",
                "INSERT INTO dbo.Teste_Collation_SQL\r\n",
                "SELECT Dt_Log, Descricao\r\n",
                "FROM Teste_Collation_SQL\r\n",
                "GO 18\r\n",
                "*/\r\n",
                "\r\n",
                "\r\n",
                "/*\r\n",
                "INSERT INTO dbo.Teste_Collation_SQL\r\n",
                "SELECT GETDATE(), 'Carlos Eduardo Gimenes 1'\r\n",
                "*/\r\n",
                "\r\n",
                "/*\r\n",
                "INSERT INTO dbo.Teste_Collation_SQL\r\n",
                "SELECT GETDATE(), '- Carlos Eduardo Gimenes 2'\r\n",
                "*/\r\n",
                "\r\n",
                "\r\n",
                "--CREATE NONCLUSTERED INDEX SK01_Teste_Collation_SQL ON Teste_Collation_SQL(Descricao) WITH (FILLFACTOR=95)\r\n",
                "\r\n",
                "EXEC sp_spaceused Teste_Collation_SQL\r\n",
                "\r\n",
                "/*\r\n",
                "SET STATISTICS IO ON\r\n",
                "SET STATISTICS TIME ON\r\n",
                "*/\r\n",
                "-- CTRL+M\r\n",
                "\r\n",
                "-- Teste 1 Usando a Collation da coluna: Latin1_General_CI_AI\r\n",
                "/*\r\n",
                "SELECT COUNT(*)\r\n",
                "FROM TreinamentoDBA.dbo.Teste_Collation_SQL\r\n",
                "WHERE Descricao LIKE '%Carlos%'\r\n",
                "*/\r\n",
                "\r\n",
                "-- Consumo CPU\r\n",
                "\r\n",
                "\r\n",
                "-- Teste 2 Usando a Collation da coluna: Latin1_General_CI_AI\r\n",
                "/*\r\n",
                "SELECT COUNT(*)\r\n",
                "FROM TreinamentoDBA..Teste_Collation_SQL\r\n",
                "WHERE Descricao COLLATE SQL_Latin1_General_CP1_CI_AI LIKE '%Carlos%'\r\n",
                "*/\r\n",
                "\r\n",
                "-- Rodando o Teste 1 forcando a Collation da coluna (que nao faz diferenca nenhuma)\r\n",
                "/*\r\n",
                "SELECT COUNT(*)\r\n",
                "FROM TreinamentoDBA..Teste_Collation_SQL\r\n",
                "WHERE Descricao COLLATE Latin1_General_CI_AI LIKE '%Carlos%'\r\n",
                "*/\r\n",
                "\r\n",
                "/* =======================================================================================================\r\n",
                "\r\n",
                "Curiosidade: A Collation BIN é ainda mais rapida, contudo ela e CASE SENSITIVE e ACENT SENSITIVE\r\n",
                "Se voce tivesse uma Collation Latin1_General_CS_AS, poderia fazer o like com a Latin1_General1_BIN2\r\n",
                "\r\n",
                "========================================================================================================*/\r\n",
                "\r\n",
                "/*\r\n",
                "SELECT COUNT(*)\r\n",
                "FROM TreinamentoDBA..Teste_Collation_SQL\r\n",
                "WHERE Descricao COLLATE Latin1_General_BIN2 LIKE '%Carlos%'\r\n",
                "*/\r\n",
                "\r\n",
                "/* =======================================================================================================\r\n",
                "\r\n",
                "Link com referencia explicando um pouco do motivo disso acontecer:\r\n",
                "https://support.microsoft.com/en-us/help/322112/comparing-sql-collations-to-windows-collations\r\n",
                "\r\n",
                "Obs.: Se usar uma coluna Nvarchar ao inves de varchar, isso nao acontece, o tempo e o mesmo\r\n",
                "\r\n",
                "========================================================================================================*/\r\n",
                ""
            ],
            "metadata": {
                "language": "sql",
                "azdata_cell_guid": "4721238b-8f41-44bb-a2bb-409037a62c84"
            },
            "outputs": [],
            "execution_count": null
        },
        {
            "cell_type": "markdown",
            "source": [
                "* * *\n",
                "\n",
                "# **Fim de arquivo**"
            ],
            "metadata": {
                "language": "sql",
                "azdata_cell_guid": "d54dcba1-e4eb-4a90-acc5-e8298958a85b"
            },
            "attachments": {}
        }
    ]
}