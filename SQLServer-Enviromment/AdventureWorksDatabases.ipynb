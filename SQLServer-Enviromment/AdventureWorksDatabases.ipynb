{
    "metadata": {
        "kernelspec": {
            "name": "SQL",
            "display_name": "SQL",
            "language": "sql"
        },
        "language_info": {
            "name": "sql",
            "version": ""
        }
    },
    "nbformat_minor": 2,
    "nbformat": 4,
    "cells": [
        {
            "cell_type": "markdown",
            "source": [
                "# **Bancos de dados de exemplo do AdventureWorks**"
            ],
            "metadata": {
                "azdata_cell_guid": "3accb8d6-9bd3-4c6b-96f3-dc18ff456286"
            },
            "attachments": {}
        },
        {
            "cell_type": "markdown",
            "source": [
                "## **Pré-requisitos**\n",
                "\n",
                "-     SQL Server 2019 ou Banco de Dados SQL do Azure\n",
                "-     SQL Server Management Studio (SSMS) ou Azure Data Studio"
            ],
            "metadata": {
                "azdata_cell_guid": "bc524da8-fd20-426c-82ae-f982e8da3197"
            },
            "attachments": {}
        },
        {
            "cell_type": "markdown",
            "source": [
                "## **Baixar arquivos de backup**\n",
                "\n",
                "[Use esses links para baixar o banco de dados de exemplo apropriado para seu cenário](https:\\learn.microsoft.com\\pt-br\\sql\\samples\\adventureworks-install-configure?view=sql-server-ver16&tabs=ssms#download-backup-files).\n",
                "\n",
                "-     Os dados OLTP são para a maioria das cargas de trabalho típicas de processamento de transações online.\n",
                "-     Os dados de Data Warehouse (DW) são para cargas de trabalho de armazenamento de dados.\n",
                "-     Os dados Lightweight (LT) são uma versão leve e analisada da amostra de OLTP.\n",
                "\n",
                "Se você não tiver certeza do que precisa, comece com a versão OLTP que corresponde à sua versão SQL Server."
            ],
            "metadata": {
                "azdata_cell_guid": "506c447a-fbaa-4eae-94a9-c636618c7972"
            },
            "attachments": {}
        },
        {
            "cell_type": "markdown",
            "source": [
                "### _**Obs.:** Deixado uma cópia dos arquivos de Backup em_ [Google Drive/Backup/Databae](https:\\drive.google.com\\drive\\folders\\1sEsolBqJ5mSUSQzKNqp8WOw7zxQNVONv?usp=drive_link)"
            ],
            "metadata": {
                "azdata_cell_guid": "719407b9-63a5-4ae2-8a2f-b1981501f964"
            },
            "attachments": {}
        },
        {
            "cell_type": "markdown",
            "source": [
                "# **Restaurar para SQL Server**"
            ],
            "metadata": {
                "azdata_cell_guid": "d25f93f2-667b-4030-a595-9012b41b55d6"
            },
            "attachments": {}
        },
        {
            "cell_type": "markdown",
            "source": [
                "## \n",
                "\n",
                "- **AdventureWorks2008**"
            ],
            "metadata": {
                "azdata_cell_guid": "c0e31742-6815-42a2-9acd-eb569ffd51d3"
            },
            "attachments": {}
        },
        {
            "cell_type": "code",
            "source": [
                "-- Identificar Lista dos arquivos Banco de Dados e de Log contido no arquivo de Backup\r\n",
                "\r\n",
                "USE [master]\r\n",
                "RESTORE FILELISTONLY\r\n",
                "FROM  DISK = N'/arquivos3/mssql/backup/copy-only/adventure-works-2008r2-oltp.bak' \r\n",
                "GO\r\n",
                ""
            ],
            "metadata": {
                "azdata_cell_guid": "d7b2dc38-38bd-4192-969d-5caec13e2c1e",
                "language": "sql"
            },
            "outputs": [
                {
                    "output_type": "display_data",
                    "data": {
                        "text/html": "(2 rows affected)"
                    },
                    "metadata": {}
                },
                {
                    "output_type": "display_data",
                    "data": {
                        "text/html": "Commands completed successfully."
                    },
                    "metadata": {}
                },
                {
                    "output_type": "display_data",
                    "data": {
                        "text/html": "Total execution time: 00:00:00.054"
                    },
                    "metadata": {}
                },
                {
                    "output_type": "execute_result",
                    "execution_count": 1,
                    "data": {
                        "application/vnd.dataresource+json": {
                            "schema": {
                                "fields": [
                                    {
                                        "name": "LogicalName"
                                    },
                                    {
                                        "name": "PhysicalName"
                                    },
                                    {
                                        "name": "Type"
                                    },
                                    {
                                        "name": "FileGroupName"
                                    },
                                    {
                                        "name": "Size"
                                    },
                                    {
                                        "name": "MaxSize"
                                    },
                                    {
                                        "name": "FileId"
                                    },
                                    {
                                        "name": "CreateLSN"
                                    },
                                    {
                                        "name": "DropLSN"
                                    },
                                    {
                                        "name": "UniqueId"
                                    },
                                    {
                                        "name": "ReadOnlyLSN"
                                    },
                                    {
                                        "name": "ReadWriteLSN"
                                    },
                                    {
                                        "name": "BackupSizeInBytes"
                                    },
                                    {
                                        "name": "SourceBlockSize"
                                    },
                                    {
                                        "name": "FileGroupId"
                                    },
                                    {
                                        "name": "LogGroupGUID"
                                    },
                                    {
                                        "name": "DifferentialBaseLSN"
                                    },
                                    {
                                        "name": "DifferentialBaseGUID"
                                    },
                                    {
                                        "name": "IsReadOnly"
                                    },
                                    {
                                        "name": "IsPresent"
                                    },
                                    {
                                        "name": "TDEThumbprint"
                                    },
                                    {
                                        "name": "SnapshotUrl"
                                    }
                                ]
                            },
                            "data": [
                                {
                                    "LogicalName": "AdventureWorks2008R2_Data",
                                    "PhysicalName": "C:\\Program Files\\Microsoft SQL Server\\MSSQL10_50.SQL2008R2ST\\MSSQL\\DATA\\AdventureWorks2008r2.mdf",
                                    "Type": "D",
                                    "FileGroupName": "PRIMARY",
                                    "Size": "205455360",
                                    "MaxSize": "35184372080640",
                                    "FileId": "1",
                                    "CreateLSN": "0",
                                    "DropLSN": "0",
                                    "UniqueId": "a2b5fc76-071c-4fec-b94e-0bc823d7e3d2",
                                    "ReadOnlyLSN": "0",
                                    "ReadWriteLSN": "0",
                                    "BackupSizeInBytes": "189071360",
                                    "SourceBlockSize": "4096",
                                    "FileGroupId": "1",
                                    "LogGroupGUID": "NULL",
                                    "DifferentialBaseLSN": "0",
                                    "DifferentialBaseGUID": "00000000-0000-0000-0000-000000000000",
                                    "IsReadOnly": "0",
                                    "IsPresent": "1",
                                    "TDEThumbprint": "NULL",
                                    "SnapshotUrl": "NULL"
                                },
                                {
                                    "LogicalName": "AdventureWorks2008R2_Log",
                                    "PhysicalName": "C:\\Program Files\\Microsoft SQL Server\\MSSQL10_50.SQL2008R2ST\\MSSQL\\DATA\\AdventureWorks2008R2_log.LDF",
                                    "Type": "L",
                                    "FileGroupName": "NULL",
                                    "Size": "516096",
                                    "MaxSize": "35184372080640",
                                    "FileId": "2",
                                    "CreateLSN": "0",
                                    "DropLSN": "0",
                                    "UniqueId": "a1a23cd8-4fea-49d9-8a6d-2e360477f5cb",
                                    "ReadOnlyLSN": "0",
                                    "ReadWriteLSN": "0",
                                    "BackupSizeInBytes": "0",
                                    "SourceBlockSize": "4096",
                                    "FileGroupId": "0",
                                    "LogGroupGUID": "NULL",
                                    "DifferentialBaseLSN": "0",
                                    "DifferentialBaseGUID": "00000000-0000-0000-0000-000000000000",
                                    "IsReadOnly": "0",
                                    "IsPresent": "1",
                                    "TDEThumbprint": "NULL",
                                    "SnapshotUrl": "NULL"
                                }
                            ]
                        },
                        "text/html": "<table><tr><th>LogicalName</th><th>PhysicalName</th><th>Type</th><th>FileGroupName</th><th>Size</th><th>MaxSize</th><th>FileId</th><th>CreateLSN</th><th>DropLSN</th><th>UniqueId</th><th>ReadOnlyLSN</th><th>ReadWriteLSN</th><th>BackupSizeInBytes</th><th>SourceBlockSize</th><th>FileGroupId</th><th>LogGroupGUID</th><th>DifferentialBaseLSN</th><th>DifferentialBaseGUID</th><th>IsReadOnly</th><th>IsPresent</th><th>TDEThumbprint</th><th>SnapshotUrl</th></tr><tr><td>AdventureWorks2008R2_Data</td><td>C:\\Program Files\\Microsoft SQL Server\\MSSQL10_50.SQL2008R2ST\\MSSQL\\DATA\\AdventureWorks2008r2.mdf</td><td>D</td><td>PRIMARY</td><td>205455360</td><td>35184372080640</td><td>1</td><td>0</td><td>0</td><td>a2b5fc76-071c-4fec-b94e-0bc823d7e3d2</td><td>0</td><td>0</td><td>189071360</td><td>4096</td><td>1</td><td>NULL</td><td>0</td><td>00000000-0000-0000-0000-000000000000</td><td>0</td><td>1</td><td>NULL</td><td>NULL</td></tr><tr><td>AdventureWorks2008R2_Log</td><td>C:\\Program Files\\Microsoft SQL Server\\MSSQL10_50.SQL2008R2ST\\MSSQL\\DATA\\AdventureWorks2008R2_log.LDF</td><td>L</td><td>NULL</td><td>516096</td><td>35184372080640</td><td>2</td><td>0</td><td>0</td><td>a1a23cd8-4fea-49d9-8a6d-2e360477f5cb</td><td>0</td><td>0</td><td>0</td><td>4096</td><td>0</td><td>NULL</td><td>0</td><td>00000000-0000-0000-0000-000000000000</td><td>0</td><td>1</td><td>NULL</td><td>NULL</td></tr></table>"
                    },
                    "metadata": {}
                }
            ],
            "execution_count": 1
        },
        {
            "cell_type": "code",
            "source": [
                "-- Restaurar\r\n",
                "\r\n",
                "USE [master]\r\n",
                "RESTORE DATABASE [AdventureWorks2008] \r\n",
                "FROM  DISK = N'/arquivos3/mssql/backup/copy-only/adventure-works-2008r2-oltp.bak' \r\n",
                "WITH  \r\n",
                "FILE = 1,  \r\n",
                "MOVE N'AdventureWorks2008R2_Data' \r\n",
                "TO N'/arquivos3/mssql/data/AdventureWorks2008.mdf',  \r\n",
                "MOVE N'AdventureWorks2008R2_log' \r\n",
                "TO N'/arquivos3/mssql/log/AdventureWorks2008_log.ldf',  \r\n",
                "NOUNLOAD,  \r\n",
                "REPLACE,  \r\n",
                "STATS = 10\r\n",
                "\r\n",
                "GO"
            ],
            "metadata": {
                "azdata_cell_guid": "3c825d33-63db-48f3-8bf0-9c5a7f142b2b",
                "language": "sql"
            },
            "outputs": [],
            "execution_count": null
        },
        {
            "cell_type": "markdown",
            "source": [
                "- **AdventureWorks2012**"
            ],
            "metadata": {
                "language": "sql",
                "azdata_cell_guid": "cacbb166-94bd-4591-b498-867bd5461e04"
            },
            "attachments": {}
        },
        {
            "cell_type": "code",
            "source": [
                "-- Identificar Lista dos arquivos Banco de Dados e de Log contido no arquivo de Backup\r\n",
                "\r\n",
                "USE [master]\r\n",
                "RESTORE FILELISTONLY\r\n",
                "FROM  DISK = N'/arquivos3/mssql/backup/copy-only/AdventureWorks2012.bak' \r\n",
                "GO\r\n",
                ""
            ],
            "metadata": {
                "language": "sql",
                "azdata_cell_guid": "677a443e-3575-4ce7-8434-9094e35012d5"
            },
            "outputs": [
                {
                    "output_type": "display_data",
                    "data": {
                        "text/html": "(2 rows affected)"
                    },
                    "metadata": {}
                },
                {
                    "output_type": "display_data",
                    "data": {
                        "text/html": "Commands completed successfully."
                    },
                    "metadata": {}
                },
                {
                    "output_type": "display_data",
                    "data": {
                        "text/html": "Total execution time: 00:00:00.085"
                    },
                    "metadata": {}
                },
                {
                    "output_type": "execute_result",
                    "execution_count": 2,
                    "data": {
                        "application/vnd.dataresource+json": {
                            "schema": {
                                "fields": [
                                    {
                                        "name": "LogicalName"
                                    },
                                    {
                                        "name": "PhysicalName"
                                    },
                                    {
                                        "name": "Type"
                                    },
                                    {
                                        "name": "FileGroupName"
                                    },
                                    {
                                        "name": "Size"
                                    },
                                    {
                                        "name": "MaxSize"
                                    },
                                    {
                                        "name": "FileId"
                                    },
                                    {
                                        "name": "CreateLSN"
                                    },
                                    {
                                        "name": "DropLSN"
                                    },
                                    {
                                        "name": "UniqueId"
                                    },
                                    {
                                        "name": "ReadOnlyLSN"
                                    },
                                    {
                                        "name": "ReadWriteLSN"
                                    },
                                    {
                                        "name": "BackupSizeInBytes"
                                    },
                                    {
                                        "name": "SourceBlockSize"
                                    },
                                    {
                                        "name": "FileGroupId"
                                    },
                                    {
                                        "name": "LogGroupGUID"
                                    },
                                    {
                                        "name": "DifferentialBaseLSN"
                                    },
                                    {
                                        "name": "DifferentialBaseGUID"
                                    },
                                    {
                                        "name": "IsReadOnly"
                                    },
                                    {
                                        "name": "IsPresent"
                                    },
                                    {
                                        "name": "TDEThumbprint"
                                    },
                                    {
                                        "name": "SnapshotUrl"
                                    }
                                ]
                            },
                            "data": [
                                {
                                    "LogicalName": "AdventureWorks2012",
                                    "PhysicalName": "C:\\Program Files\\Microsoft SQL Server\\MSSQL11.MSSQL2012RTM\\MSSQL\\DATA\\AdventureWorks2012.mdf",
                                    "Type": "D",
                                    "FileGroupName": "PRIMARY",
                                    "Size": "198246400",
                                    "MaxSize": "35184372080640",
                                    "FileId": "1",
                                    "CreateLSN": "0",
                                    "DropLSN": "0",
                                    "UniqueId": "671d6691-5b1b-4053-9a8b-7e17561adc00",
                                    "ReadOnlyLSN": "0",
                                    "ReadWriteLSN": "0",
                                    "BackupSizeInBytes": "198115328",
                                    "SourceBlockSize": "512",
                                    "FileGroupId": "1",
                                    "LogGroupGUID": "NULL",
                                    "DifferentialBaseLSN": "0",
                                    "DifferentialBaseGUID": "00000000-0000-0000-0000-000000000000",
                                    "IsReadOnly": "0",
                                    "IsPresent": "1",
                                    "TDEThumbprint": "NULL",
                                    "SnapshotUrl": "NULL"
                                },
                                {
                                    "LogicalName": "AdventureWorks2012_log",
                                    "PhysicalName": "C:\\Program Files\\Microsoft SQL Server\\MSSQL11.MSSQL2012RTM\\MSSQL\\DATA\\AdventureWorks2012_log.ldf",
                                    "Type": "L",
                                    "FileGroupName": "NULL",
                                    "Size": "40894464",
                                    "MaxSize": "2199023255552",
                                    "FileId": "2",
                                    "CreateLSN": "0",
                                    "DropLSN": "0",
                                    "UniqueId": "831633b5-04c4-4a87-80f5-d1f004b463ed",
                                    "ReadOnlyLSN": "0",
                                    "ReadWriteLSN": "0",
                                    "BackupSizeInBytes": "0",
                                    "SourceBlockSize": "512",
                                    "FileGroupId": "0",
                                    "LogGroupGUID": "NULL",
                                    "DifferentialBaseLSN": "0",
                                    "DifferentialBaseGUID": "00000000-0000-0000-0000-000000000000",
                                    "IsReadOnly": "0",
                                    "IsPresent": "1",
                                    "TDEThumbprint": "NULL",
                                    "SnapshotUrl": "NULL"
                                }
                            ]
                        },
                        "text/html": "<table><tr><th>LogicalName</th><th>PhysicalName</th><th>Type</th><th>FileGroupName</th><th>Size</th><th>MaxSize</th><th>FileId</th><th>CreateLSN</th><th>DropLSN</th><th>UniqueId</th><th>ReadOnlyLSN</th><th>ReadWriteLSN</th><th>BackupSizeInBytes</th><th>SourceBlockSize</th><th>FileGroupId</th><th>LogGroupGUID</th><th>DifferentialBaseLSN</th><th>DifferentialBaseGUID</th><th>IsReadOnly</th><th>IsPresent</th><th>TDEThumbprint</th><th>SnapshotUrl</th></tr><tr><td>AdventureWorks2012</td><td>C:\\Program Files\\Microsoft SQL Server\\MSSQL11.MSSQL2012RTM\\MSSQL\\DATA\\AdventureWorks2012.mdf</td><td>D</td><td>PRIMARY</td><td>198246400</td><td>35184372080640</td><td>1</td><td>0</td><td>0</td><td>671d6691-5b1b-4053-9a8b-7e17561adc00</td><td>0</td><td>0</td><td>198115328</td><td>512</td><td>1</td><td>NULL</td><td>0</td><td>00000000-0000-0000-0000-000000000000</td><td>0</td><td>1</td><td>NULL</td><td>NULL</td></tr><tr><td>AdventureWorks2012_log</td><td>C:\\Program Files\\Microsoft SQL Server\\MSSQL11.MSSQL2012RTM\\MSSQL\\DATA\\AdventureWorks2012_log.ldf</td><td>L</td><td>NULL</td><td>40894464</td><td>2199023255552</td><td>2</td><td>0</td><td>0</td><td>831633b5-04c4-4a87-80f5-d1f004b463ed</td><td>0</td><td>0</td><td>0</td><td>512</td><td>0</td><td>NULL</td><td>0</td><td>00000000-0000-0000-0000-000000000000</td><td>0</td><td>1</td><td>NULL</td><td>NULL</td></tr></table>"
                    },
                    "metadata": {}
                }
            ],
            "execution_count": 2
        },
        {
            "cell_type": "code",
            "source": [
                "-- Restaurar\r\n",
                "\r\n",
                "USE [master]\r\n",
                "RESTORE DATABASE [AdventureWorks2012] \r\n",
                "FROM  DISK = N'/arquivos3/mssql/backup/copy-only/AdventureWorks2012.bak' \r\n",
                "WITH  \r\n",
                "FILE = 1,  \r\n",
                "MOVE N'AdventureWorks2012' \r\n",
                "TO N'/arquivos3/mssql/data/AdventureWorks2012.mdf',  \r\n",
                "MOVE N'AdventureWorks2012_log' \r\n",
                "TO N'/arquivos3/mssql/log/AdventureWorks2012_log.ldf',  \r\n",
                "NOUNLOAD,  \r\n",
                "REPLACE,  \r\n",
                "STATS = 10\r\n",
                "\r\n",
                "GO"
            ],
            "metadata": {
                "language": "sql",
                "azdata_cell_guid": "cc0b3092-56c7-4f17-b26b-be1713ec7e46"
            },
            "outputs": [],
            "execution_count": null
        },
        {
            "cell_type": "markdown",
            "source": [
                "- **AdventureWorks2014**"
            ],
            "metadata": {
                "language": "sql",
                "azdata_cell_guid": "fac801d7-2520-4c3e-b90f-eb57e395d9d1"
            },
            "attachments": {}
        },
        {
            "cell_type": "code",
            "source": [
                "-- Identificar Lista dos arquivos Banco de Dados e de Log contido no arquivo de Backup\r\n",
                "\r\n",
                "USE [master]\r\n",
                "RESTORE FILELISTONLY\r\n",
                "FROM  DISK = N'/arquivos3/mssql/backup/copy-only/AdventureWorks2014.bak' \r\n",
                "GO\r\n",
                ""
            ],
            "metadata": {
                "language": "sql",
                "azdata_cell_guid": "b8372c59-85c6-42e5-b89d-f80f514043be"
            },
            "outputs": [
                {
                    "output_type": "display_data",
                    "data": {
                        "text/html": "(2 rows affected)"
                    },
                    "metadata": {}
                },
                {
                    "output_type": "display_data",
                    "data": {
                        "text/html": "Commands completed successfully."
                    },
                    "metadata": {}
                },
                {
                    "output_type": "display_data",
                    "data": {
                        "text/html": "Total execution time: 00:00:00.079"
                    },
                    "metadata": {}
                },
                {
                    "output_type": "execute_result",
                    "execution_count": 3,
                    "data": {
                        "application/vnd.dataresource+json": {
                            "schema": {
                                "fields": [
                                    {
                                        "name": "LogicalName"
                                    },
                                    {
                                        "name": "PhysicalName"
                                    },
                                    {
                                        "name": "Type"
                                    },
                                    {
                                        "name": "FileGroupName"
                                    },
                                    {
                                        "name": "Size"
                                    },
                                    {
                                        "name": "MaxSize"
                                    },
                                    {
                                        "name": "FileId"
                                    },
                                    {
                                        "name": "CreateLSN"
                                    },
                                    {
                                        "name": "DropLSN"
                                    },
                                    {
                                        "name": "UniqueId"
                                    },
                                    {
                                        "name": "ReadOnlyLSN"
                                    },
                                    {
                                        "name": "ReadWriteLSN"
                                    },
                                    {
                                        "name": "BackupSizeInBytes"
                                    },
                                    {
                                        "name": "SourceBlockSize"
                                    },
                                    {
                                        "name": "FileGroupId"
                                    },
                                    {
                                        "name": "LogGroupGUID"
                                    },
                                    {
                                        "name": "DifferentialBaseLSN"
                                    },
                                    {
                                        "name": "DifferentialBaseGUID"
                                    },
                                    {
                                        "name": "IsReadOnly"
                                    },
                                    {
                                        "name": "IsPresent"
                                    },
                                    {
                                        "name": "TDEThumbprint"
                                    },
                                    {
                                        "name": "SnapshotUrl"
                                    }
                                ]
                            },
                            "data": [
                                {
                                    "LogicalName": "AdventureWorks2014_Data",
                                    "PhysicalName": "C:\\Program Files\\Microsoft SQL Server\\MSSQL12.SQL2014MULTI\\MSSQL\\DATA\\AdventureWorks2014_Data.mdf",
                                    "Type": "D",
                                    "FileGroupName": "PRIMARY",
                                    "Size": "215220224",
                                    "MaxSize": "35184372080640",
                                    "FileId": "1",
                                    "CreateLSN": "0",
                                    "DropLSN": "0",
                                    "UniqueId": "fbf02ee2-5f78-44b2-972f-df53a8fe35ee",
                                    "ReadOnlyLSN": "0",
                                    "ReadWriteLSN": "0",
                                    "BackupSizeInBytes": "198639616",
                                    "SourceBlockSize": "4096",
                                    "FileGroupId": "1",
                                    "LogGroupGUID": "NULL",
                                    "DifferentialBaseLSN": "0",
                                    "DifferentialBaseGUID": "00000000-0000-0000-0000-000000000000",
                                    "IsReadOnly": "0",
                                    "IsPresent": "1",
                                    "TDEThumbprint": "NULL",
                                    "SnapshotUrl": "NULL"
                                },
                                {
                                    "LogicalName": "AdventureWorks2014_Log",
                                    "PhysicalName": "C:\\Program Files\\Microsoft SQL Server\\MSSQL12.SQL2014MULTI\\MSSQL\\DATA\\AdventureWorks2014_Log.ldf",
                                    "Type": "L",
                                    "FileGroupName": "NULL",
                                    "Size": "2097152",
                                    "MaxSize": "2199023255552",
                                    "FileId": "2",
                                    "CreateLSN": "0",
                                    "DropLSN": "0",
                                    "UniqueId": "1ef63d26-36ae-4d8f-92ae-662d78b25805",
                                    "ReadOnlyLSN": "0",
                                    "ReadWriteLSN": "0",
                                    "BackupSizeInBytes": "0",
                                    "SourceBlockSize": "4096",
                                    "FileGroupId": "0",
                                    "LogGroupGUID": "NULL",
                                    "DifferentialBaseLSN": "0",
                                    "DifferentialBaseGUID": "00000000-0000-0000-0000-000000000000",
                                    "IsReadOnly": "0",
                                    "IsPresent": "1",
                                    "TDEThumbprint": "NULL",
                                    "SnapshotUrl": "NULL"
                                }
                            ]
                        },
                        "text/html": "<table><tr><th>LogicalName</th><th>PhysicalName</th><th>Type</th><th>FileGroupName</th><th>Size</th><th>MaxSize</th><th>FileId</th><th>CreateLSN</th><th>DropLSN</th><th>UniqueId</th><th>ReadOnlyLSN</th><th>ReadWriteLSN</th><th>BackupSizeInBytes</th><th>SourceBlockSize</th><th>FileGroupId</th><th>LogGroupGUID</th><th>DifferentialBaseLSN</th><th>DifferentialBaseGUID</th><th>IsReadOnly</th><th>IsPresent</th><th>TDEThumbprint</th><th>SnapshotUrl</th></tr><tr><td>AdventureWorks2014_Data</td><td>C:\\Program Files\\Microsoft SQL Server\\MSSQL12.SQL2014MULTI\\MSSQL\\DATA\\AdventureWorks2014_Data.mdf</td><td>D</td><td>PRIMARY</td><td>215220224</td><td>35184372080640</td><td>1</td><td>0</td><td>0</td><td>fbf02ee2-5f78-44b2-972f-df53a8fe35ee</td><td>0</td><td>0</td><td>198639616</td><td>4096</td><td>1</td><td>NULL</td><td>0</td><td>00000000-0000-0000-0000-000000000000</td><td>0</td><td>1</td><td>NULL</td><td>NULL</td></tr><tr><td>AdventureWorks2014_Log</td><td>C:\\Program Files\\Microsoft SQL Server\\MSSQL12.SQL2014MULTI\\MSSQL\\DATA\\AdventureWorks2014_Log.ldf</td><td>L</td><td>NULL</td><td>2097152</td><td>2199023255552</td><td>2</td><td>0</td><td>0</td><td>1ef63d26-36ae-4d8f-92ae-662d78b25805</td><td>0</td><td>0</td><td>0</td><td>4096</td><td>0</td><td>NULL</td><td>0</td><td>00000000-0000-0000-0000-000000000000</td><td>0</td><td>1</td><td>NULL</td><td>NULL</td></tr></table>"
                    },
                    "metadata": {}
                }
            ],
            "execution_count": 3
        },
        {
            "cell_type": "code",
            "source": [
                "-- Restaurar\r\n",
                "\r\n",
                "USE [master]\r\n",
                "RESTORE DATABASE [AdventureWorks2014] \r\n",
                "FROM  DISK = N'/arquivos3/mssql/backup/copy-only/AdventureWorks2014.bak' \r\n",
                "WITH  \r\n",
                "FILE = 1,  \r\n",
                "MOVE N'AdventureWorks2014_Data' \r\n",
                "TO N'/arquivos3/mssql/data/AdventureWorks2014_Data.mdf',  \r\n",
                "MOVE N'AdventureWorks2014_Log' \r\n",
                "TO N'/arquivos3/mssql/log/AdventureWorks2014_Log.ldf',  \r\n",
                "NOUNLOAD,  \r\n",
                "REPLACE,  \r\n",
                "STATS = 10\r\n",
                "\r\n",
                "GO"
            ],
            "metadata": {
                "language": "sql",
                "azdata_cell_guid": "04aeec30-0cb2-4b35-a305-4cea26b86410"
            },
            "outputs": [],
            "execution_count": null
        },
        {
            "cell_type": "markdown",
            "source": [
                "- **AdventureWorks2016**"
            ],
            "metadata": {
                "language": "sql",
                "azdata_cell_guid": "98238260-272a-4775-add3-a823e5e762cd"
            },
            "attachments": {}
        },
        {
            "cell_type": "code",
            "source": [
                "-- Identificar Lista dos arquivos Banco de Dados e de Log contido no arquivo de Backup\r\n",
                "\r\n",
                "USE [master]\r\n",
                "RESTORE FILELISTONLY\r\n",
                "FROM  DISK = N'/arquivos3/mssql/backup/copy-only/AdventureWorks2016.bak' \r\n",
                "GO\r\n",
                ""
            ],
            "metadata": {
                "language": "sql",
                "azdata_cell_guid": "9849ba7d-cec1-4a2e-9159-0544466a9e22"
            },
            "outputs": [
                {
                    "output_type": "display_data",
                    "data": {
                        "text/html": "(2 rows affected)"
                    },
                    "metadata": {}
                },
                {
                    "output_type": "display_data",
                    "data": {
                        "text/html": "Commands completed successfully."
                    },
                    "metadata": {}
                },
                {
                    "output_type": "display_data",
                    "data": {
                        "text/html": "Total execution time: 00:00:00.071"
                    },
                    "metadata": {}
                },
                {
                    "output_type": "execute_result",
                    "execution_count": 4,
                    "data": {
                        "application/vnd.dataresource+json": {
                            "schema": {
                                "fields": [
                                    {
                                        "name": "LogicalName"
                                    },
                                    {
                                        "name": "PhysicalName"
                                    },
                                    {
                                        "name": "Type"
                                    },
                                    {
                                        "name": "FileGroupName"
                                    },
                                    {
                                        "name": "Size"
                                    },
                                    {
                                        "name": "MaxSize"
                                    },
                                    {
                                        "name": "FileId"
                                    },
                                    {
                                        "name": "CreateLSN"
                                    },
                                    {
                                        "name": "DropLSN"
                                    },
                                    {
                                        "name": "UniqueId"
                                    },
                                    {
                                        "name": "ReadOnlyLSN"
                                    },
                                    {
                                        "name": "ReadWriteLSN"
                                    },
                                    {
                                        "name": "BackupSizeInBytes"
                                    },
                                    {
                                        "name": "SourceBlockSize"
                                    },
                                    {
                                        "name": "FileGroupId"
                                    },
                                    {
                                        "name": "LogGroupGUID"
                                    },
                                    {
                                        "name": "DifferentialBaseLSN"
                                    },
                                    {
                                        "name": "DifferentialBaseGUID"
                                    },
                                    {
                                        "name": "IsReadOnly"
                                    },
                                    {
                                        "name": "IsPresent"
                                    },
                                    {
                                        "name": "TDEThumbprint"
                                    },
                                    {
                                        "name": "SnapshotUrl"
                                    }
                                ]
                            },
                            "data": [
                                {
                                    "LogicalName": "AdventureWorks2016_Data",
                                    "PhysicalName": "C:\\Program Files\\Microsoft SQL Server\\MSSQL13.MSSQL2016RTM\\MSSQL\\DATA\\AdventureWorks2016_Data.mdf",
                                    "Type": "D",
                                    "FileGroupName": "PRIMARY",
                                    "Size": "217710592",
                                    "MaxSize": "35184372080640",
                                    "FileId": "1",
                                    "CreateLSN": "0",
                                    "DropLSN": "0",
                                    "UniqueId": "cb09699b-c610-43d1-a70f-9699a92dcffc",
                                    "ReadOnlyLSN": "0",
                                    "ReadWriteLSN": "0",
                                    "BackupSizeInBytes": "214761472",
                                    "SourceBlockSize": "512",
                                    "FileGroupId": "1",
                                    "LogGroupGUID": "NULL",
                                    "DifferentialBaseLSN": "40000000018800037",
                                    "DifferentialBaseGUID": "cba3cd32-e27d-43a5-83ca-d34c11cb1bae",
                                    "IsReadOnly": "0",
                                    "IsPresent": "1",
                                    "TDEThumbprint": "NULL",
                                    "SnapshotUrl": "NULL"
                                },
                                {
                                    "LogicalName": "AdventureWorks2016_Log",
                                    "PhysicalName": "C:\\Program Files\\Microsoft SQL Server\\MSSQL13.MSSQL2016RTM\\MSSQL\\DATA\\AdventureWorks2016_Log.ldf",
                                    "Type": "L",
                                    "FileGroupName": "NULL",
                                    "Size": "2097152",
                                    "MaxSize": "2199023255552",
                                    "FileId": "2",
                                    "CreateLSN": "0",
                                    "DropLSN": "0",
                                    "UniqueId": "1365df26-1cdb-4054-89a6-69942fb89868",
                                    "ReadOnlyLSN": "0",
                                    "ReadWriteLSN": "0",
                                    "BackupSizeInBytes": "0",
                                    "SourceBlockSize": "512",
                                    "FileGroupId": "0",
                                    "LogGroupGUID": "NULL",
                                    "DifferentialBaseLSN": "0",
                                    "DifferentialBaseGUID": "00000000-0000-0000-0000-000000000000",
                                    "IsReadOnly": "0",
                                    "IsPresent": "1",
                                    "TDEThumbprint": "NULL",
                                    "SnapshotUrl": "NULL"
                                }
                            ]
                        },
                        "text/html": "<table><tr><th>LogicalName</th><th>PhysicalName</th><th>Type</th><th>FileGroupName</th><th>Size</th><th>MaxSize</th><th>FileId</th><th>CreateLSN</th><th>DropLSN</th><th>UniqueId</th><th>ReadOnlyLSN</th><th>ReadWriteLSN</th><th>BackupSizeInBytes</th><th>SourceBlockSize</th><th>FileGroupId</th><th>LogGroupGUID</th><th>DifferentialBaseLSN</th><th>DifferentialBaseGUID</th><th>IsReadOnly</th><th>IsPresent</th><th>TDEThumbprint</th><th>SnapshotUrl</th></tr><tr><td>AdventureWorks2016_Data</td><td>C:\\Program Files\\Microsoft SQL Server\\MSSQL13.MSSQL2016RTM\\MSSQL\\DATA\\AdventureWorks2016_Data.mdf</td><td>D</td><td>PRIMARY</td><td>217710592</td><td>35184372080640</td><td>1</td><td>0</td><td>0</td><td>cb09699b-c610-43d1-a70f-9699a92dcffc</td><td>0</td><td>0</td><td>214761472</td><td>512</td><td>1</td><td>NULL</td><td>40000000018800037</td><td>cba3cd32-e27d-43a5-83ca-d34c11cb1bae</td><td>0</td><td>1</td><td>NULL</td><td>NULL</td></tr><tr><td>AdventureWorks2016_Log</td><td>C:\\Program Files\\Microsoft SQL Server\\MSSQL13.MSSQL2016RTM\\MSSQL\\DATA\\AdventureWorks2016_Log.ldf</td><td>L</td><td>NULL</td><td>2097152</td><td>2199023255552</td><td>2</td><td>0</td><td>0</td><td>1365df26-1cdb-4054-89a6-69942fb89868</td><td>0</td><td>0</td><td>0</td><td>512</td><td>0</td><td>NULL</td><td>0</td><td>00000000-0000-0000-0000-000000000000</td><td>0</td><td>1</td><td>NULL</td><td>NULL</td></tr></table>"
                    },
                    "metadata": {}
                }
            ],
            "execution_count": 4
        },
        {
            "cell_type": "code",
            "source": [
                "-- Restaurar\r\n",
                "\r\n",
                "USE [master]\r\n",
                "RESTORE DATABASE [AdventureWorks2016] \r\n",
                "FROM  DISK = N'/arquivos3/mssql/backup/copy-only/AdventureWorks2016.bak' \r\n",
                "WITH  \r\n",
                "FILE = 1,  \r\n",
                "MOVE N'AdventureWorks2016_Data' \r\n",
                "TO N'/arquivos3/mssql/data/AdventureWorks2016.mdf',  \r\n",
                "MOVE N'AdventureWorks2016_log' \r\n",
                "TO N'/arquivos3/mssql/log/AdventureWorks2016_log.ldf',  \r\n",
                "NOUNLOAD,  \r\n",
                "REPLACE,  \r\n",
                "STATS = 10\r\n",
                "\r\n",
                "GO"
            ],
            "metadata": {
                "language": "sql",
                "azdata_cell_guid": "6c00b7d7-b67d-4006-8749-1e140c60067a"
            },
            "outputs": [],
            "execution_count": null
        },
        {
            "cell_type": "markdown",
            "source": [
                "- **AdventureWorks2017**"
            ],
            "metadata": {
                "language": "sql",
                "azdata_cell_guid": "4be1155c-9636-4895-b986-a9b8ebded77a"
            },
            "attachments": {}
        },
        {
            "cell_type": "code",
            "source": [
                "-- Identificar Lista dos arquivos Banco de Dados e de Log contido no arquivo de Backup\r\n",
                "\r\n",
                "USE [master]\r\n",
                "RESTORE FILELISTONLY\r\n",
                "FROM  DISK = N'/arquivos3/mssql/backup/copy-only/AdventureWorks2017.bak' \r\n",
                "GO\r\n",
                ""
            ],
            "metadata": {
                "language": "sql",
                "azdata_cell_guid": "3a9bb10d-cf31-4c05-b58c-fc68f449fd70"
            },
            "outputs": [
                {
                    "output_type": "display_data",
                    "data": {
                        "text/html": "(2 rows affected)"
                    },
                    "metadata": {}
                },
                {
                    "output_type": "display_data",
                    "data": {
                        "text/html": "Commands completed successfully."
                    },
                    "metadata": {}
                },
                {
                    "output_type": "display_data",
                    "data": {
                        "text/html": "Total execution time: 00:00:00.069"
                    },
                    "metadata": {}
                },
                {
                    "output_type": "execute_result",
                    "execution_count": 5,
                    "data": {
                        "application/vnd.dataresource+json": {
                            "schema": {
                                "fields": [
                                    {
                                        "name": "LogicalName"
                                    },
                                    {
                                        "name": "PhysicalName"
                                    },
                                    {
                                        "name": "Type"
                                    },
                                    {
                                        "name": "FileGroupName"
                                    },
                                    {
                                        "name": "Size"
                                    },
                                    {
                                        "name": "MaxSize"
                                    },
                                    {
                                        "name": "FileId"
                                    },
                                    {
                                        "name": "CreateLSN"
                                    },
                                    {
                                        "name": "DropLSN"
                                    },
                                    {
                                        "name": "UniqueId"
                                    },
                                    {
                                        "name": "ReadOnlyLSN"
                                    },
                                    {
                                        "name": "ReadWriteLSN"
                                    },
                                    {
                                        "name": "BackupSizeInBytes"
                                    },
                                    {
                                        "name": "SourceBlockSize"
                                    },
                                    {
                                        "name": "FileGroupId"
                                    },
                                    {
                                        "name": "LogGroupGUID"
                                    },
                                    {
                                        "name": "DifferentialBaseLSN"
                                    },
                                    {
                                        "name": "DifferentialBaseGUID"
                                    },
                                    {
                                        "name": "IsReadOnly"
                                    },
                                    {
                                        "name": "IsPresent"
                                    },
                                    {
                                        "name": "TDEThumbprint"
                                    },
                                    {
                                        "name": "SnapshotUrl"
                                    }
                                ]
                            },
                            "data": [
                                {
                                    "LogicalName": "AdventureWorks2017",
                                    "PhysicalName": "C:\\Program Files\\Microsoft SQL Server\\MSSQL14.MSSQL2017RTM\\MSSQL\\DATA\\AdventureWorks2017.mdf",
                                    "Type": "D",
                                    "FileGroupName": "PRIMARY",
                                    "Size": "276824064",
                                    "MaxSize": "35184372080640",
                                    "FileId": "1",
                                    "CreateLSN": "0",
                                    "DropLSN": "0",
                                    "UniqueId": "733940a8-d019-4dc5-80f8-13e869a504ec",
                                    "ReadOnlyLSN": "0",
                                    "ReadWriteLSN": "0",
                                    "BackupSizeInBytes": "215285760",
                                    "SourceBlockSize": "512",
                                    "FileGroupId": "1",
                                    "LogGroupGUID": "NULL",
                                    "DifferentialBaseLSN": "0",
                                    "DifferentialBaseGUID": "00000000-0000-0000-0000-000000000000",
                                    "IsReadOnly": "0",
                                    "IsPresent": "1",
                                    "TDEThumbprint": "NULL",
                                    "SnapshotUrl": "NULL"
                                },
                                {
                                    "LogicalName": "AdventureWorks2017_log",
                                    "PhysicalName": "C:\\Program Files\\Microsoft SQL Server\\MSSQL14.MSSQL2017RTM\\MSSQL\\DATA\\AdventureWorks2017_log.ldf",
                                    "Type": "L",
                                    "FileGroupName": "NULL",
                                    "Size": "75497472",
                                    "MaxSize": "2199023255552",
                                    "FileId": "2",
                                    "CreateLSN": "0",
                                    "DropLSN": "0",
                                    "UniqueId": "b166c891-e43f-42da-87fc-8d7f34022b35",
                                    "ReadOnlyLSN": "0",
                                    "ReadWriteLSN": "0",
                                    "BackupSizeInBytes": "0",
                                    "SourceBlockSize": "512",
                                    "FileGroupId": "0",
                                    "LogGroupGUID": "NULL",
                                    "DifferentialBaseLSN": "0",
                                    "DifferentialBaseGUID": "00000000-0000-0000-0000-000000000000",
                                    "IsReadOnly": "0",
                                    "IsPresent": "1",
                                    "TDEThumbprint": "NULL",
                                    "SnapshotUrl": "NULL"
                                }
                            ]
                        },
                        "text/html": "<table><tr><th>LogicalName</th><th>PhysicalName</th><th>Type</th><th>FileGroupName</th><th>Size</th><th>MaxSize</th><th>FileId</th><th>CreateLSN</th><th>DropLSN</th><th>UniqueId</th><th>ReadOnlyLSN</th><th>ReadWriteLSN</th><th>BackupSizeInBytes</th><th>SourceBlockSize</th><th>FileGroupId</th><th>LogGroupGUID</th><th>DifferentialBaseLSN</th><th>DifferentialBaseGUID</th><th>IsReadOnly</th><th>IsPresent</th><th>TDEThumbprint</th><th>SnapshotUrl</th></tr><tr><td>AdventureWorks2017</td><td>C:\\Program Files\\Microsoft SQL Server\\MSSQL14.MSSQL2017RTM\\MSSQL\\DATA\\AdventureWorks2017.mdf</td><td>D</td><td>PRIMARY</td><td>276824064</td><td>35184372080640</td><td>1</td><td>0</td><td>0</td><td>733940a8-d019-4dc5-80f8-13e869a504ec</td><td>0</td><td>0</td><td>215285760</td><td>512</td><td>1</td><td>NULL</td><td>0</td><td>00000000-0000-0000-0000-000000000000</td><td>0</td><td>1</td><td>NULL</td><td>NULL</td></tr><tr><td>AdventureWorks2017_log</td><td>C:\\Program Files\\Microsoft SQL Server\\MSSQL14.MSSQL2017RTM\\MSSQL\\DATA\\AdventureWorks2017_log.ldf</td><td>L</td><td>NULL</td><td>75497472</td><td>2199023255552</td><td>2</td><td>0</td><td>0</td><td>b166c891-e43f-42da-87fc-8d7f34022b35</td><td>0</td><td>0</td><td>0</td><td>512</td><td>0</td><td>NULL</td><td>0</td><td>00000000-0000-0000-0000-000000000000</td><td>0</td><td>1</td><td>NULL</td><td>NULL</td></tr></table>"
                    },
                    "metadata": {}
                }
            ],
            "execution_count": 5
        },
        {
            "cell_type": "code",
            "source": [
                "-- Restaurar\r\n",
                "\r\n",
                "USE [master]\r\n",
                "RESTORE DATABASE [AdventureWorks2017] \r\n",
                "FROM  DISK = N'/arquivos3/mssql/backup/copy-only/AdventureWorks2017.bak' \r\n",
                "WITH  \r\n",
                "FILE = 1,  \r\n",
                "MOVE N'AdventureWorks2017' \r\n",
                "TO N'/arquivos3/mssql/data/AdventureWorks2017.mdf',  \r\n",
                "MOVE N'AdventureWorks2017_log' \r\n",
                "TO N'/arquivos3/mssql/log/AdventureWorks2017_log.ldf',  \r\n",
                "NOUNLOAD,  \r\n",
                "REPLACE,  \r\n",
                "STATS = 10\r\n",
                "\r\n",
                "GO"
            ],
            "metadata": {
                "language": "sql",
                "azdata_cell_guid": "7a14d9b4-94d5-4032-8c3f-296aed7016fa"
            },
            "outputs": [],
            "execution_count": null
        },
        {
            "cell_type": "markdown",
            "source": [
                "- **AdventureWorks2019**"
            ],
            "metadata": {
                "language": "sql",
                "azdata_cell_guid": "868d4f10-30ed-42c7-8d6a-15083ddcab7a"
            },
            "attachments": {}
        },
        {
            "cell_type": "code",
            "source": [
                "-- Identificar Lista dos arquivos Banco de Dados e de Log contido no arquivo de Backup\r\n",
                "\r\n",
                "USE [master]\r\n",
                "RESTORE FILELISTONLY\r\n",
                "FROM  DISK = N'/arquivos3/mssql/backup/copy-only/AdventureWorks2019.bak' \r\n",
                "GO\r\n",
                ""
            ],
            "metadata": {
                "language": "sql",
                "azdata_cell_guid": "276da1e8-faa2-4406-b99d-440751cca3e5"
            },
            "outputs": [
                {
                    "output_type": "display_data",
                    "data": {
                        "text/html": "(2 rows affected)"
                    },
                    "metadata": {}
                },
                {
                    "output_type": "display_data",
                    "data": {
                        "text/html": "Commands completed successfully."
                    },
                    "metadata": {}
                },
                {
                    "output_type": "display_data",
                    "data": {
                        "text/html": "Total execution time: 00:00:00.055"
                    },
                    "metadata": {}
                },
                {
                    "output_type": "execute_result",
                    "execution_count": 6,
                    "data": {
                        "application/vnd.dataresource+json": {
                            "schema": {
                                "fields": [
                                    {
                                        "name": "LogicalName"
                                    },
                                    {
                                        "name": "PhysicalName"
                                    },
                                    {
                                        "name": "Type"
                                    },
                                    {
                                        "name": "FileGroupName"
                                    },
                                    {
                                        "name": "Size"
                                    },
                                    {
                                        "name": "MaxSize"
                                    },
                                    {
                                        "name": "FileId"
                                    },
                                    {
                                        "name": "CreateLSN"
                                    },
                                    {
                                        "name": "DropLSN"
                                    },
                                    {
                                        "name": "UniqueId"
                                    },
                                    {
                                        "name": "ReadOnlyLSN"
                                    },
                                    {
                                        "name": "ReadWriteLSN"
                                    },
                                    {
                                        "name": "BackupSizeInBytes"
                                    },
                                    {
                                        "name": "SourceBlockSize"
                                    },
                                    {
                                        "name": "FileGroupId"
                                    },
                                    {
                                        "name": "LogGroupGUID"
                                    },
                                    {
                                        "name": "DifferentialBaseLSN"
                                    },
                                    {
                                        "name": "DifferentialBaseGUID"
                                    },
                                    {
                                        "name": "IsReadOnly"
                                    },
                                    {
                                        "name": "IsPresent"
                                    },
                                    {
                                        "name": "TDEThumbprint"
                                    },
                                    {
                                        "name": "SnapshotUrl"
                                    }
                                ]
                            },
                            "data": [
                                {
                                    "LogicalName": "AdventureWorks2019",
                                    "PhysicalName": "C:\\SQL\\Data\\AdventureWorks2019.mdf",
                                    "Type": "D",
                                    "FileGroupName": "PRIMARY",
                                    "Size": "209715200",
                                    "MaxSize": "35184372080640",
                                    "FileId": "1",
                                    "CreateLSN": "0",
                                    "DropLSN": "0",
                                    "UniqueId": "fbad6d5f-27f1-4d28-8483-e2149acd7c13",
                                    "ReadOnlyLSN": "0",
                                    "ReadWriteLSN": "0",
                                    "BackupSizeInBytes": "207093760",
                                    "SourceBlockSize": "4096",
                                    "FileGroupId": "1",
                                    "LogGroupGUID": "NULL",
                                    "DifferentialBaseLSN": "0",
                                    "DifferentialBaseGUID": "00000000-0000-0000-0000-000000000000",
                                    "IsReadOnly": "0",
                                    "IsPresent": "1",
                                    "TDEThumbprint": "NULL",
                                    "SnapshotUrl": "NULL"
                                },
                                {
                                    "LogicalName": "AdventureWorks2019_log",
                                    "PhysicalName": "C:\\SQL\\Log\\AdventureWorks2019_log.ldf",
                                    "Type": "L",
                                    "FileGroupName": "NULL",
                                    "Size": "75497472",
                                    "MaxSize": "2199023255552",
                                    "FileId": "2",
                                    "CreateLSN": "0",
                                    "DropLSN": "0",
                                    "UniqueId": "3df51afc-02e6-4d8e-8e84-ce6101f2ee28",
                                    "ReadOnlyLSN": "0",
                                    "ReadWriteLSN": "0",
                                    "BackupSizeInBytes": "0",
                                    "SourceBlockSize": "4096",
                                    "FileGroupId": "0",
                                    "LogGroupGUID": "NULL",
                                    "DifferentialBaseLSN": "0",
                                    "DifferentialBaseGUID": "00000000-0000-0000-0000-000000000000",
                                    "IsReadOnly": "0",
                                    "IsPresent": "1",
                                    "TDEThumbprint": "NULL",
                                    "SnapshotUrl": "NULL"
                                }
                            ]
                        },
                        "text/html": "<table><tr><th>LogicalName</th><th>PhysicalName</th><th>Type</th><th>FileGroupName</th><th>Size</th><th>MaxSize</th><th>FileId</th><th>CreateLSN</th><th>DropLSN</th><th>UniqueId</th><th>ReadOnlyLSN</th><th>ReadWriteLSN</th><th>BackupSizeInBytes</th><th>SourceBlockSize</th><th>FileGroupId</th><th>LogGroupGUID</th><th>DifferentialBaseLSN</th><th>DifferentialBaseGUID</th><th>IsReadOnly</th><th>IsPresent</th><th>TDEThumbprint</th><th>SnapshotUrl</th></tr><tr><td>AdventureWorks2019</td><td>C:\\SQL\\Data\\AdventureWorks2019.mdf</td><td>D</td><td>PRIMARY</td><td>209715200</td><td>35184372080640</td><td>1</td><td>0</td><td>0</td><td>fbad6d5f-27f1-4d28-8483-e2149acd7c13</td><td>0</td><td>0</td><td>207093760</td><td>4096</td><td>1</td><td>NULL</td><td>0</td><td>00000000-0000-0000-0000-000000000000</td><td>0</td><td>1</td><td>NULL</td><td>NULL</td></tr><tr><td>AdventureWorks2019_log</td><td>C:\\SQL\\Log\\AdventureWorks2019_log.ldf</td><td>L</td><td>NULL</td><td>75497472</td><td>2199023255552</td><td>2</td><td>0</td><td>0</td><td>3df51afc-02e6-4d8e-8e84-ce6101f2ee28</td><td>0</td><td>0</td><td>0</td><td>4096</td><td>0</td><td>NULL</td><td>0</td><td>00000000-0000-0000-0000-000000000000</td><td>0</td><td>1</td><td>NULL</td><td>NULL</td></tr></table>"
                    },
                    "metadata": {}
                }
            ],
            "execution_count": 6
        },
        {
            "cell_type": "code",
            "source": [
                "-- Restaurar\r\n",
                "\r\n",
                "USE [master]\r\n",
                "RESTORE DATABASE [AdventureWorks2019] \r\n",
                "FROM  DISK = N'/arquivos3/mssql/backup/copy-only/AdventureWorks2019.bak' \r\n",
                "WITH  \r\n",
                "FILE = 1,  \r\n",
                "MOVE N'AdventureWorks2019' \r\n",
                "TO N'/arquivos3/mssql/data/AdventureWorks2019.mdf',  \r\n",
                "MOVE N'AdventureWorks2019_log' \r\n",
                "TO N'/arquivos3/mssql/log/AdventureWorks2019_log.ldf',  \r\n",
                "NOUNLOAD,  \r\n",
                "REPLACE,  \r\n",
                "STATS = 10\r\n",
                "\r\n",
                "GO"
            ],
            "metadata": {
                "language": "sql",
                "azdata_cell_guid": "86bd114c-9cfb-4582-b4ba-b33685cb64a7"
            },
            "outputs": [],
            "execution_count": null
        },
        {
            "cell_type": "markdown",
            "source": [
                "- **AdventureWorks2022**\n",
                "    - **<mark>ATENCAO, ATENCAO!! SO RODA NO SQL SERVER 2022</mark>**"
            ],
            "metadata": {
                "language": "sql",
                "azdata_cell_guid": "76650bc4-7fcd-41d8-b117-86da878b0e45"
            },
            "attachments": {}
        },
        {
            "cell_type": "code",
            "source": [
                "-- Identificar Lista dos arquivos Banco de Dados e de Log contido no arquivo de Backup\r\n",
                "\r\n",
                "USE [master]\r\n",
                "RESTORE FILELISTONLY\r\n",
                "FROM  DISK = N'/arquivos3/mssql/backup/copy-only/AdventureWorks2022.bak' \r\n",
                "GO\r\n",
                ""
            ],
            "metadata": {
                "language": "sql",
                "azdata_cell_guid": "296e08bb-6173-4bed-a7e5-551e0559ef7a"
            },
            "outputs": [
                {
                    "output_type": "display_data",
                    "data": {
                        "text/html": "(2 rows affected)"
                    },
                    "metadata": {}
                },
                {
                    "output_type": "display_data",
                    "data": {
                        "text/html": "Commands completed successfully."
                    },
                    "metadata": {}
                },
                {
                    "output_type": "display_data",
                    "data": {
                        "text/html": "Total execution time: 00:00:00.039"
                    },
                    "metadata": {}
                },
                {
                    "output_type": "execute_result",
                    "execution_count": 7,
                    "data": {
                        "application/vnd.dataresource+json": {
                            "schema": {
                                "fields": [
                                    {
                                        "name": "LogicalName"
                                    },
                                    {
                                        "name": "PhysicalName"
                                    },
                                    {
                                        "name": "Type"
                                    },
                                    {
                                        "name": "FileGroupName"
                                    },
                                    {
                                        "name": "Size"
                                    },
                                    {
                                        "name": "MaxSize"
                                    },
                                    {
                                        "name": "FileId"
                                    },
                                    {
                                        "name": "CreateLSN"
                                    },
                                    {
                                        "name": "DropLSN"
                                    },
                                    {
                                        "name": "UniqueId"
                                    },
                                    {
                                        "name": "ReadOnlyLSN"
                                    },
                                    {
                                        "name": "ReadWriteLSN"
                                    },
                                    {
                                        "name": "BackupSizeInBytes"
                                    },
                                    {
                                        "name": "SourceBlockSize"
                                    },
                                    {
                                        "name": "FileGroupId"
                                    },
                                    {
                                        "name": "LogGroupGUID"
                                    },
                                    {
                                        "name": "DifferentialBaseLSN"
                                    },
                                    {
                                        "name": "DifferentialBaseGUID"
                                    },
                                    {
                                        "name": "IsReadOnly"
                                    },
                                    {
                                        "name": "IsPresent"
                                    },
                                    {
                                        "name": "TDEThumbprint"
                                    },
                                    {
                                        "name": "SnapshotUrl"
                                    }
                                ]
                            },
                            "data": [
                                {
                                    "LogicalName": "AdventureWorks2022",
                                    "PhysicalName": "C:\\Program Files\\Microsoft SQL Server\\MSSQL16.MSSQLSERVER\\MSSQL\\DATA\\AdventureWorks2022.mdf",
                                    "Type": "D",
                                    "FileGroupName": "PRIMARY",
                                    "Size": "209715200",
                                    "MaxSize": "35184372080640",
                                    "FileId": "1",
                                    "CreateLSN": "0",
                                    "DropLSN": "0",
                                    "UniqueId": "fbad6d5f-27f1-4d28-8483-e2149acd7c13",
                                    "ReadOnlyLSN": "0",
                                    "ReadWriteLSN": "0",
                                    "BackupSizeInBytes": "207749120",
                                    "SourceBlockSize": "4096",
                                    "FileGroupId": "1",
                                    "LogGroupGUID": "NULL",
                                    "DifferentialBaseLSN": "0",
                                    "DifferentialBaseGUID": "00000000-0000-0000-0000-000000000000",
                                    "IsReadOnly": "0",
                                    "IsPresent": "1",
                                    "TDEThumbprint": "NULL",
                                    "SnapshotUrl": "NULL"
                                },
                                {
                                    "LogicalName": "AdventureWorks2022_log",
                                    "PhysicalName": "C:\\Program Files\\Microsoft SQL Server\\MSSQL16.MSSQLSERVER\\MSSQL\\DATA\\AdventureWorks2022_log.ldf",
                                    "Type": "L",
                                    "FileGroupName": "NULL",
                                    "Size": "75497472",
                                    "MaxSize": "2199023255552",
                                    "FileId": "2",
                                    "CreateLSN": "0",
                                    "DropLSN": "0",
                                    "UniqueId": "3df51afc-02e6-4d8e-8e84-ce6101f2ee28",
                                    "ReadOnlyLSN": "0",
                                    "ReadWriteLSN": "0",
                                    "BackupSizeInBytes": "0",
                                    "SourceBlockSize": "4096",
                                    "FileGroupId": "0",
                                    "LogGroupGUID": "NULL",
                                    "DifferentialBaseLSN": "0",
                                    "DifferentialBaseGUID": "00000000-0000-0000-0000-000000000000",
                                    "IsReadOnly": "0",
                                    "IsPresent": "1",
                                    "TDEThumbprint": "NULL",
                                    "SnapshotUrl": "NULL"
                                }
                            ]
                        },
                        "text/html": "<table><tr><th>LogicalName</th><th>PhysicalName</th><th>Type</th><th>FileGroupName</th><th>Size</th><th>MaxSize</th><th>FileId</th><th>CreateLSN</th><th>DropLSN</th><th>UniqueId</th><th>ReadOnlyLSN</th><th>ReadWriteLSN</th><th>BackupSizeInBytes</th><th>SourceBlockSize</th><th>FileGroupId</th><th>LogGroupGUID</th><th>DifferentialBaseLSN</th><th>DifferentialBaseGUID</th><th>IsReadOnly</th><th>IsPresent</th><th>TDEThumbprint</th><th>SnapshotUrl</th></tr><tr><td>AdventureWorks2022</td><td>C:\\Program Files\\Microsoft SQL Server\\MSSQL16.MSSQLSERVER\\MSSQL\\DATA\\AdventureWorks2022.mdf</td><td>D</td><td>PRIMARY</td><td>209715200</td><td>35184372080640</td><td>1</td><td>0</td><td>0</td><td>fbad6d5f-27f1-4d28-8483-e2149acd7c13</td><td>0</td><td>0</td><td>207749120</td><td>4096</td><td>1</td><td>NULL</td><td>0</td><td>00000000-0000-0000-0000-000000000000</td><td>0</td><td>1</td><td>NULL</td><td>NULL</td></tr><tr><td>AdventureWorks2022_log</td><td>C:\\Program Files\\Microsoft SQL Server\\MSSQL16.MSSQLSERVER\\MSSQL\\DATA\\AdventureWorks2022_log.ldf</td><td>L</td><td>NULL</td><td>75497472</td><td>2199023255552</td><td>2</td><td>0</td><td>0</td><td>3df51afc-02e6-4d8e-8e84-ce6101f2ee28</td><td>0</td><td>0</td><td>0</td><td>4096</td><td>0</td><td>NULL</td><td>0</td><td>00000000-0000-0000-0000-000000000000</td><td>0</td><td>1</td><td>NULL</td><td>NULL</td></tr></table>"
                    },
                    "metadata": {}
                }
            ],
            "execution_count": 7
        },
        {
            "cell_type": "code",
            "source": [
                "-- Restaurar\r\n",
                "\r\n",
                "USE [master]\r\n",
                "RESTORE DATABASE [AdventureWorks2022] \r\n",
                "FROM  DISK = N'/arquivos3/mssql/backup/copy-only/AdventureWorks2022.bak' \r\n",
                "WITH  \r\n",
                "FILE = 1,  \r\n",
                "MOVE N'AdventureWorks2022' \r\n",
                "TO N'/arquivos3/mssql/data/AdventureWorks2022.mdf',  \r\n",
                "MOVE N'AdventureWorks2022_log' \r\n",
                "TO N'/arquivos3/mssql/log/AdventureWorks2022_log.ldf',  \r\n",
                "NOUNLOAD,  \r\n",
                "REPLACE,  \r\n",
                "STATS = 10\r\n",
                "\r\n",
                "GO"
            ],
            "metadata": {
                "language": "sql",
                "azdata_cell_guid": "a956af81-4bc4-49af-98ad-9576014ba905"
            },
            "outputs": [],
            "execution_count": null
        },
        {
            "cell_type": "markdown",
            "source": [
                "# **End of file**"
            ],
            "metadata": {
                "language": "sql",
                "azdata_cell_guid": "94d41063-a80f-41fa-aa78-aa0c2d6ede48"
            },
            "attachments": {}
        }
    ]
}